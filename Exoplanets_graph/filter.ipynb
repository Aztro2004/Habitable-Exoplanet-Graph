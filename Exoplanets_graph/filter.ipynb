{
 "cells": [
  {
   "cell_type": "code",
   "execution_count": null,
   "metadata": {},
   "outputs": [],
   "source": [
    "import pandas as pd\n",
    "\n",
    "# Aquí está el nombre del archivo descargado de https://exoplanetarchive.ipac.caltech.edu/cgi-bin/TblView/nph-tblView?app=ExoTbls&config=PS\n",
    "archivo_csv = \"PS_2024.02.19_10.53.35.zip\"\n",
    "\n",
    "# Lee el archivo CSV como un dataframe \n",
    "df = pd.read_csv(archivo_csv, comment='#')\n",
    "\n",
    "# Criterios para habitabilidad\n",
    "criterios = [\n",
    "    (df['pl_orbper'] >= 100) & (df['pl_orbper'] <= 500),  # Periodo orbital entre 100 y 500 días\n",
    "    (df['pl_rade'] >= 1) & (df['pl_rade'] <= 2),           # Radio del planeta entre 1 y 2 veces el de la Tierra\n",
    "    (df['st_teff'] >= 3000) & (df['st_teff'] <= 6000),     # Temperatura de la estrella entre 3000 y 6000 K\n",
    "    (df['st_rad'] >= 0.5) & (df['st_rad'] <= 2),           # Radio de la estrella entre 0.5 y 2 veces el del Sol\n",
    "    (df['st_mass'] >= 0.7) & (df['st_mass'] <= 1.5)        # Masa de la estrella entre 0.7 y 1.5 veces la masa del Sol\n",
    "]\n",
    "\n",
    "\n",
    "mascara_and = criterios[0]\n",
    "for criterio in criterios[1:]:\n",
    "    mascara_and &= criterio\n",
    "\n",
    "# Aplica la máscara al DataFrame original\n",
    "exoplanetas_habitables = df[mascara_and].drop_duplicates()\n",
    "\n",
    "# Nuevo archivo CSV, listo para graficar o consultar\n",
    "exoplanetas_habitables.to_csv(\"EXOPLANETAS.csv\", index=False)"
   ]
  }
 ],
 "metadata": {
  "language_info": {
   "name": "python"
  }
 },
 "nbformat": 4,
 "nbformat_minor": 2
}
